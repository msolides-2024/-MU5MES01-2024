{
 "cells": [
  {
   "cell_type": "markdown",
   "id": "included-constitution",
   "metadata": {},
   "source": [
    "# Mesh generation and visualization \n",
    "*Authors: Corrado Maurini (corrado.maurini@sorbonne-universite.fr)*\n",
    "\n",
    "In this notebook you will find examples to\n",
    " - Generate meshes with `gmsh` and import them in `dolfinx`\n",
    " - Visualize the `dolfinx` mesh directly in the notebook using `pyvista`\n",
    " - Save the mesh to an `xmdf` file\n",
    "\n",
    "We consider an elastic slab $\\Omega$ with a straight crack $\\Gamma$ \n",
    "Using the symmetry, we will consider only half of the domain in the computation and we refine the mesh around the crack tip.\n",
    "\n",
    "![title](../01-Linear-Elasticity/domain.png)\n"
   ]
  },
  {
   "cell_type": "markdown",
   "id": "handled-making",
   "metadata": {},
   "source": [
    "Let us generate a mesh using gmsh (http://gmsh.info/). \n",
    "\n",
    "The function to generate the mesh is reported in the external file `meshes.py`. \n",
    "The mesh is refined around the crack tip."
   ]
  },
  {
   "cell_type": "code",
   "execution_count": 1,
   "id": "00cf0c18",
   "metadata": {},
   "outputs": [
    {
     "name": "stderr",
     "output_type": "stream",
     "text": [
      "hwloc/linux: Ignoring PCI device with non-16bit domain.\n",
      "Pass --enable-32bits-pci-domain to configure to support such devices\n",
      "(warning: it would break the library ABI, don't enable unless really needed).\n"
     ]
    }
   ],
   "source": [
    "import gmsh\n",
    "import numpy as np\n",
    "from mpi4py import MPI\n",
    "from dolfinx.io import gmshio, XDMFFile\n",
    "import dolfinx.plot"
   ]
  },
  {
   "cell_type": "markdown",
   "id": "e31e87d1",
   "metadata": {},
   "source": [
    "We define below the geometrical paramters of the mesh."
   ]
  },
  {
   "cell_type": "code",
   "execution_count": 2,
   "id": "superior-exhibition",
   "metadata": {},
   "outputs": [],
   "source": [
    "import gmsh\n",
    "from mpi4py import MPI\n",
    "from dolfinx.io import gmshio, XDMFFile\n",
    "Lx = 1.\n",
    "Ly = .5\n",
    "Lcrack = 0.3\n",
    "lc = 0.1\n",
    "dist_min = .1\n",
    "dist_max = .3\n",
    "refinement_ratio = 10\n",
    "gdim = 2"
   ]
  },
  {
   "cell_type": "markdown",
   "id": "a8b8fdd1",
   "metadata": {},
   "source": [
    "The following code block generate the mesh using the `gmsh` python interface. We refer the reader to the `gmsh` documentation for details: https://gmsh.info/doc/texinfo/gmsh.html\n",
    "\n",
    "We also define *MPI communicator*s, which are required only in parallel computation.\n",
    "They are not stricly necessary here, but we keep them to have this example working in general. \n",
    "The are set so that when we perform parallel computations, the mesh is generated on one processor (`model_rank=0`) and then it is distributed to all the processors (`mesh_comm = MPI.COMM_WORLD`) \n",
    "\n",
    "We define a dictionary `tags` to associate clear names to numerical tags that are used to identify the different part of the domain and the boundary"
   ]
  },
  {
   "cell_type": "code",
   "execution_count": 3,
   "id": "6f9653ce",
   "metadata": {},
   "outputs": [
    {
     "name": "stdout",
     "output_type": "stream",
     "text": [
      "Info    : Meshing 1D...\n",
      "Info    : [  0%] Meshing curve 1 (Line)\n",
      "Info    : [ 20%] Meshing curve 2 (Line)\n",
      "Info    : [ 40%] Meshing curve 3 (Line)\n",
      "Info    : [ 60%] Meshing curve 4 (Line)\n",
      "Info    : [ 80%] Meshing curve 5 (Line)\n",
      "Info    : Done meshing 1D (Wall 0.0027277s, CPU 0.003228s)\n",
      "Info    : Meshing 2D...\n",
      "Info    : Meshing surface 1 (Plane, Frontal-Delaunay)\n",
      "Info    : Done meshing 2D (Wall 0.0054928s, CPU 0.005553s)\n",
      "Info    : 413 nodes 829 elements\n"
     ]
    }
   ],
   "source": [
    "mesh_comm = MPI.COMM_WORLD\n",
    "model_rank = 0\n",
    "gmsh.initialize()\n",
    "\n",
    "facet_tags = {\"left\": 1, \"right\": 2, \"top\": 3, \"crack\": 4, \"bottom_no_crack\": 5}\n",
    "cell_tags = {\"all\": 20}\n",
    "\n",
    "if mesh_comm.rank == model_rank:\n",
    "    model = gmsh.model()\n",
    "    model.add(\"Rectangle\")\n",
    "    model.setCurrent(\"Rectangle\")\n",
    "    # Create the points\n",
    "    p1 = model.geo.addPoint(0.0, 0.0, 0, lc)\n",
    "    p2 = model.geo.addPoint(Lcrack, 0.0, 0, lc)\n",
    "    p3 = model.geo.addPoint(Lx, 0, 0, lc)\n",
    "    p4 = model.geo.addPoint(Lx, Ly, 0, lc)\n",
    "    p5 = model.geo.addPoint(0, Ly, 0, lc)\n",
    "    # Create the lines\n",
    "    l1 = model.geo.addLine(p1, p2, tag=facet_tags[\"crack\"])\n",
    "    l2 = model.geo.addLine(p2, p3, tag=facet_tags[\"bottom_no_crack\"])\n",
    "    l3 = model.geo.addLine(p3, p4, tag=facet_tags[\"right\"])\n",
    "    l4 = model.geo.addLine(p4, p5, tag=facet_tags[\"top\"])\n",
    "    l5 = model.geo.addLine(p5, p1, tag=facet_tags[\"left\"])\n",
    "    # Create the surface\n",
    "    cloop1 = model.geo.addCurveLoop([l1, l2, l3, l4, l5])\n",
    "    surface_1 = model.geo.addPlaneSurface([cloop1])\n",
    "    \n",
    "    # Define the mesh size and fields for the mesh refinement\n",
    "    model.mesh.field.add(\"Distance\", 1)\n",
    "    model.mesh.field.setNumbers(1, \"NodesList\", [p2])\n",
    "    model.mesh.field.add(\"Threshold\", 2)\n",
    "    model.mesh.field.setNumber(2, \"IField\", 1)\n",
    "    model.mesh.field.setNumber(2, \"LcMin\", lc / refinement_ratio)\n",
    "    model.mesh.field.setNumber(2, \"LcMax\", lc)\n",
    "    model.mesh.field.setNumber(2, \"DistMin\", dist_min)\n",
    "    model.mesh.field.setNumber(2, \"DistMax\", dist_max)\n",
    "    model.mesh.field.setAsBackgroundMesh(2)\n",
    "    model.geo.synchronize()\n",
    "    \n",
    "    # Assign mesh and facet tags\n",
    "    surface_entities = [entity[1] for entity in model.getEntities(2)]\n",
    "    model.addPhysicalGroup(2, surface_entities, tag=cell_tags[\"all\"])\n",
    "    model.setPhysicalName(2, 2, \"Rectangle surface\")\n",
    "    model.mesh.generate(gdim)\n",
    "    \n",
    "    for (key,value) in facet_tags.items():\n",
    "        model.addPhysicalGroup(1, [value], tag=value)\n",
    "        model.setPhysicalName(1, value, key)"
   ]
  },
  {
   "cell_type": "markdown",
   "id": "65c241c1",
   "metadata": {},
   "source": [
    "We can now import the mesh in `dolfinx`"
   ]
  },
  {
   "cell_type": "code",
   "execution_count": 4,
   "id": "ba374af1",
   "metadata": {},
   "outputs": [],
   "source": [
    "msh, cell_tags, facet_tags = gmshio.model_to_mesh(model, mesh_comm, model_rank, gdim=gdim)"
   ]
  },
  {
   "cell_type": "code",
   "execution_count": 5,
   "id": "5941be04-ed8e-4df8-ad75-b89672843411",
   "metadata": {},
   "outputs": [],
   "source": [
    "msh, cell_tags, facet_tags = gmshio.model_to_mesh(model, mesh_comm, model_rank, gdim=gdim)\n",
    "msh.name = \"rectangle\"\n",
    "cell_tags.name = f\"{msh.name}_cells\"\n",
    "facet_tags.name = f\"{msh.name}_facets\""
   ]
  },
  {
   "cell_type": "code",
   "execution_count": 6,
   "id": "25738090",
   "metadata": {},
   "outputs": [
    {
     "ename": "TypeError",
     "evalue": "XDMFFile.write_meshtags() missing 1 required positional argument: 'x'",
     "output_type": "error",
     "traceback": [
      "\u001b[0;31m---------------------------------------------------------------------------\u001b[0m",
      "\u001b[0;31mTypeError\u001b[0m                                 Traceback (most recent call last)",
      "Cell \u001b[0;32mIn[6], line 4\u001b[0m\n\u001b[1;32m      2\u001b[0m file\u001b[38;5;241m.\u001b[39mwrite_mesh(msh)\n\u001b[1;32m      3\u001b[0m msh\u001b[38;5;241m.\u001b[39mtopology\u001b[38;5;241m.\u001b[39mcreate_connectivity(\u001b[38;5;241m1\u001b[39m, \u001b[38;5;241m2\u001b[39m)\n\u001b[0;32m----> 4\u001b[0m \u001b[43mfile\u001b[49m\u001b[38;5;241;43m.\u001b[39;49m\u001b[43mwrite_meshtags\u001b[49m\u001b[43m(\u001b[49m\u001b[43mcell_tags\u001b[49m\u001b[43m,\u001b[49m\u001b[43m \u001b[49m\u001b[43mgeometry_xpath\u001b[49m\u001b[38;5;241;43m=\u001b[39;49m\u001b[38;5;124;43mf\u001b[39;49m\u001b[38;5;124;43m\"\u001b[39;49m\u001b[38;5;124;43m/Xdmf/Domain/Grid[@Name=\u001b[39;49m\u001b[38;5;124;43m'\u001b[39;49m\u001b[38;5;132;43;01m{\u001b[39;49;00m\u001b[43mmsh\u001b[49m\u001b[38;5;241;43m.\u001b[39;49m\u001b[43mname\u001b[49m\u001b[38;5;132;43;01m}\u001b[39;49;00m\u001b[38;5;124;43m'\u001b[39;49m\u001b[38;5;124;43m]/Geometry\u001b[39;49m\u001b[38;5;124;43m\"\u001b[39;49m\u001b[43m)\u001b[49m\n\u001b[1;32m      5\u001b[0m file\u001b[38;5;241m.\u001b[39mwrite_meshtags(facet_tags, geometry_xpath\u001b[38;5;241m=\u001b[39m\u001b[38;5;124mf\u001b[39m\u001b[38;5;124m\"\u001b[39m\u001b[38;5;124m/Xdmf/Domain/Grid[@Name=\u001b[39m\u001b[38;5;124m'\u001b[39m\u001b[38;5;132;01m{\u001b[39;00mmsh\u001b[38;5;241m.\u001b[39mname\u001b[38;5;132;01m}\u001b[39;00m\u001b[38;5;124m'\u001b[39m\u001b[38;5;124m]/Geometry\u001b[39m\u001b[38;5;124m\"\u001b[39m)\n",
      "\u001b[0;31mTypeError\u001b[0m: XDMFFile.write_meshtags() missing 1 required positional argument: 'x'"
     ]
    }
   ],
   "source": [
    "\n",
    "with dolfinx.io.XDMFFile(MPI.COMM_WORLD, \"output/mesh.xdmf\", \"w\") as file:\n",
    "    file.write_mesh(msh)\n",
    "    msh.topology.create_connectivity(1, 2)\n",
    "    file.write_meshtags(cell_tags, geometry_xpath=f\"/Xdmf/Domain/Grid[@Name='{msh.name}']/Geometry\")\n",
    "    file.write_meshtags(facet_tags, geometry_xpath=f\"/Xdmf/Domain/Grid[@Name='{msh.name}']/Geometry\")\n"
   ]
  },
  {
   "cell_type": "markdown",
   "id": "magnetic-slovak",
   "metadata": {},
   "source": [
    "To plot the mesh we use `pyvista` see:\n",
    "- https://jorgensd.github.io/dolfinx-tutorial/chapter3/component_bc.html\n",
    "- https://docs.fenicsproject.org/dolfinx/main/python/demos/pyvista/demo_pyvista.py.html"
   ]
  },
  {
   "cell_type": "code",
   "execution_count": 1,
   "id": "peripheral-stretch",
   "metadata": {},
   "outputs": [
    {
     "ename": "NameError",
     "evalue": "name 'dolfinx' is not defined",
     "output_type": "error",
     "traceback": [
      "\u001b[0;31m---------------------------------------------------------------------------\u001b[0m",
      "\u001b[0;31mNameError\u001b[0m                                 Traceback (most recent call last)",
      "Cell \u001b[0;32mIn[1], line 6\u001b[0m\n\u001b[1;32m      4\u001b[0m pyvista\u001b[38;5;241m.\u001b[39mset_jupyter_backend(\u001b[38;5;124m\"\u001b[39m\u001b[38;5;124mstatic\u001b[39m\u001b[38;5;124m\"\u001b[39m)\n\u001b[1;32m      5\u001b[0m \u001b[38;5;66;03m# Extract topology from mesh and create pyvista mesh\u001b[39;00m\n\u001b[0;32m----> 6\u001b[0m topology, cell_types, x \u001b[38;5;241m=\u001b[39m \u001b[43mdolfinx\u001b[49m\u001b[38;5;241m.\u001b[39mplot\u001b[38;5;241m.\u001b[39mvtk_mesh(msh)\n\u001b[1;32m      7\u001b[0m grid \u001b[38;5;241m=\u001b[39m pyvista\u001b[38;5;241m.\u001b[39mUnstructuredGrid(topology, cell_types, x)\n\u001b[1;32m      9\u001b[0m plotter \u001b[38;5;241m=\u001b[39m pyvista\u001b[38;5;241m.\u001b[39mPlotter()\n",
      "\u001b[0;31mNameError\u001b[0m: name 'dolfinx' is not defined"
     ]
    }
   ],
   "source": [
    "import pyvista\n",
    "\n",
    "pyvista.OFF_SCREEN = False\n",
    "pyvista.set_jupyter_backend(\"static\")\n",
    "# Extract topology from mesh and create pyvista mesh\n",
    "topology, cell_types, x = dolfinx.plot.vtk_mesh(msh)\n",
    "grid = pyvista.UnstructuredGrid(topology, cell_types, x)\n",
    "\n",
    "plotter = pyvista.Plotter()\n",
    "plotter.add_mesh(grid, show_edges=True)\n",
    "plotter.camera_position = 'xy'\n",
    "\n",
    "pyvista.OFF_SCREEN = False\n",
    "if not pyvista.OFF_SCREEN:\n",
    "    plotter.show()\n",
    "else:\n",
    "    pyvista.start_xvfb()\n",
    "    plotter.screenshot(\"mesh.png\")"
   ]
  },
  {
   "cell_type": "code",
   "execution_count": null,
   "id": "0ac07b78-23a3-490f-b659-a88b8f01e2ed",
   "metadata": {},
   "outputs": [],
   "source": []
  }
 ],
 "metadata": {
  "kernelspec": {
   "display_name": "Python 3 (ipykernel)",
   "language": "python",
   "name": "python3"
  },
  "language_info": {
   "codemirror_mode": {
    "name": "ipython",
    "version": 3
   },
   "file_extension": ".py",
   "mimetype": "text/x-python",
   "name": "python",
   "nbconvert_exporter": "python",
   "pygments_lexer": "ipython3",
   "version": "3.10.12"
  },
  "vscode": {
   "interpreter": {
    "hash": "bc2130a58dfe28bf11bbbb361ab1bf84523d7972d4cba4c6fbe3de0199108cf8"
   }
  }
 },
 "nbformat": 4,
 "nbformat_minor": 5
}
