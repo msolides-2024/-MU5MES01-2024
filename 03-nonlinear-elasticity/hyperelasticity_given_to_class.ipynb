{
 "cells": [
  {
   "cell_type": "markdown",
   "id": "9a4aef0c-b5ef-4ff9-99d8-8c7dcca88fa9",
   "metadata": {
    "tags": []
   },
   "source": [
    "# Introduction to nonlinear elasticity: deflection of a heavy hyperelastic beam"
   ]
  },
  {
   "cell_type": "markdown",
   "id": "514e520c-14a0-4a80-9f70-ecc09c2e2593",
   "metadata": {},
   "source": [
    "In this notebook we give an example for the solution of a problem in nonlinear elasticity. We study a cantilever beam loaded by its own weigth\n",
    "\n",
    "We exploit UFL features for automatic symbolic differentiation and formulate the problem in terms of the potential energy of the system.\n",
    "\n",
    "We will use here the dolfinx build-in nonlinear Netwon solver to solve the problem.\n",
    "\n",
    "This notebook is adapted from the tutorial https://jorgensd.github.io/dolfinx-tutorial/chapter2/hyperelasticity.html (in 3D)."
   ]
  },
  {
   "cell_type": "markdown",
   "id": "5c8183d5",
   "metadata": {},
   "source": [
    "![image of beam](schema_non_lin_beam.png \"Nonlinear Cantilever\")"
   ]
  },
  {
   "cell_type": "markdown",
   "id": "5c4eff4e-9f20-4d71-ba30-62bfccaf52bd",
   "metadata": {},
   "source": [
    "## Basic import statements and parameters"
   ]
  },
  {
   "cell_type": "code",
   "execution_count": 1,
   "id": "1ea07659-17a0-4e1b-a75a-a41a043ba404",
   "metadata": {},
   "outputs": [],
   "source": [
    "import dolfinx \n",
    "from dolfinx import nls\n",
    "import matplotlib.pyplot as plt\n",
    "import ufl\n",
    "import numpy as np\n",
    "from mpi4py import MPI\n",
    "import pyvista\n",
    "import dolfinx.fem.petsc\n",
    "import dolfinx.nls.petsc\n",
    "import utils # this to be able to have the value of a solution at point (x,y)\n",
    "# use it this way : utils.evaluate_at_points(np.array([[list_x], [list_y], [list_z]]), u_solution)\n",
    "# please note that list_x can be a list or a single entry"
   ]
  },
  {
   "cell_type": "markdown",
   "id": "24850c2b-90ba-49f3-9b39-747230209e03",
   "metadata": {
    "tags": []
   },
   "source": [
    "## Problem and solver setting\n",
    "Create a mesh and the `ds` measures with boundary indicators."
   ]
  },
  {
   "cell_type": "code",
   "execution_count": 2,
   "id": "1d7a77a1",
   "metadata": {},
   "outputs": [],
   "source": [
    "# geometry and mesh \n",
    "L = 1. # total length\n",
    "d = L/10. # thickness\n",
    "h = d/6. # size of a cell\n",
    "\n",
    "my_domain = dolfinx.mesh.create_rectangle(comm=MPI.COMM_WORLD,\n",
    "                            points=((0.0, -0.5*d), (L, 0.5*d)), n=(int(L/h), int(d/h)),\n",
    "                            cell_type=dolfinx.mesh.CellType.triangle)\n",
    "\n",
    "# Save the mesh in XDMF format\n",
    "with dolfinx.io.XDMFFile(MPI.COMM_WORLD, \"output/mesh.xdmf\", \"w\") as file:\n",
    "    file.write_mesh(my_domain)\n",
    "    my_domain.topology.create_connectivity(1, 2)"
   ]
  },
  {
   "cell_type": "code",
   "execution_count": 3,
   "id": "996c8120-426e-4bb0-881a-7481644e8c41",
   "metadata": {},
   "outputs": [],
   "source": [
    "def left(x):\n",
    "    return np.isclose(x[0], 0)\n",
    "\n",
    "def right(x):\n",
    "    return np.isclose(x[0], L)\n",
    "\n",
    "fdim = my_domain.topology.dim -1\n",
    "left_facets = dolfinx.mesh.locate_entities_boundary(my_domain, fdim, left)\n",
    "right_facets = dolfinx.mesh.locate_entities_boundary(my_domain, fdim, right)\n",
    "\n",
    "# Concatenate and sort the arrays based on facet indices. Left facets marked with 1, right facets with 2\n",
    "marked_facets = np.hstack([left_facets, right_facets])\n",
    "marked_values = np.hstack([np.full_like(left_facets, 1), np.full_like(right_facets, 2)])\n",
    "sorted_facets = np.argsort(marked_facets)\n",
    "facet_tag = dolfinx.mesh.meshtags(my_domain, fdim, marked_facets[sorted_facets], marked_values[sorted_facets])\n",
    "\n",
    "ds = ufl.Measure('ds', domain=my_domain, subdomain_data=facet_tag)\n",
    "dx = ufl.Measure(\"dx\", domain=my_domain)"
   ]
  },
  {
   "cell_type": "markdown",
   "id": "8cd14514",
   "metadata": {},
   "source": [
    "We can plot the mesh using ```pyvista``` *(optional)*."
   ]
  },
  {
   "cell_type": "code",
   "execution_count": null,
   "id": "8a926cb8",
   "metadata": {},
   "outputs": [],
   "source": [
    "#pyvista.start_xvfb()\n",
    "pyvista.set_jupyter_backend(\"static\") # non-interactif, mais mieux\n",
    "topology, cell_types, geometry_for_plotting = dolfinx.plot.vtk_mesh(my_domain, 2)\n",
    "grid = pyvista.UnstructuredGrid(topology, cell_types, geometry_for_plotting)\n",
    "\n",
    "plotter = pyvista.Plotter()\n",
    "plotter.add_mesh(grid, show_edges=True)\n",
    "plotter.show_axes()\n",
    "plotter.show_bounds(grid='front', location='outer', all_edges=True)\n",
    "plotter.view_xy()\n",
    "\n",
    "if not pyvista.OFF_SCREEN:\n",
    "    plotter.show()\n",
    "else:\n",
    "    pyvista.start_xvfb()\n",
    "    figure = plotter.screenshot(\"fundamentals_mesh.png\")"
   ]
  },
  {
   "cell_type": "markdown",
   "id": "7cae0ac4",
   "metadata": {},
   "source": [
    " We define now the finite element space for the displacement ```u```."
   ]
  },
  {
   "cell_type": "code",
   "execution_count": 6,
   "id": "0c4df0c5",
   "metadata": {},
   "outputs": [],
   "source": [
    "# what is the degree of these lagrange elements? Why do we use this degree?\n",
    "V = dolfinx.fem.functionspace(my_domain, (\"CG\", 2, (my_domain.geometry.dim, )))\n",
    "u = dolfinx.fem.Function(V)"
   ]
  },
  {
   "cell_type": "markdown",
   "id": "452227bd",
   "metadata": {},
   "source": [
    "Let us introduce now some useful definition for the kinematics. These expresions are symbolic operators of ```UFL```. At this level no computation is performed."
   ]
  },
  {
   "cell_type": "code",
   "execution_count": 7,
   "id": "b91b3772-6e2b-4016-aacc-1b8db03c0f06",
   "metadata": {},
   "outputs": [],
   "source": [
    "# Spatial dimension\n",
    "dim = len(u)\n",
    "\n",
    "# Identity tensor\n",
    "I = ufl.variable(ufl.Identity(dim))\n",
    "\n",
    "# Deformation gradient\n",
    "F = ufl.variable(I + ufl.grad(u))\n",
    "\n",
    "# Right Cauchy-Green tensor\n",
    "C = ufl.variable(F.T * F)\n",
    "\n",
    "# Green-Lagrange strain\n",
    "E = ufl.variable(1/2*(C-I))"
   ]
  },
  {
   "cell_type": "markdown",
   "id": "74326594",
   "metadata": {},
   "source": [
    "We define the elastic energy density with the Kirchhoff Saint-Venant model where:\n",
    "$$\n",
    "\\psi(E) = (\\lambda/2)(\\text{tr}(E))^2 + \\mu \\,E:E\n",
    "$$"
   ]
  },
  {
   "cell_type": "code",
   "execution_count": 8,
   "id": "b24d2254",
   "metadata": {},
   "outputs": [],
   "source": [
    "# Stored strain energy density\n",
    "# Elasticity parameters (plane-strain)\n",
    "Y = 1.0\n",
    "nu = 0.3\n",
    "mu = Y/(2*(1 + nu))\n",
    "lmbda = Y*nu/((1 + nu)*(1 - 2*nu)) # on a pas changé les formules d'elasticite 3D, donc on est en plaque (plan strain)\n",
    "psi = lmbda*ufl.tr(E)**2/2+mu*ufl.inner(E,E)"
   ]
  },
  {
   "cell_type": "markdown",
   "id": "43be7123",
   "metadata": {},
   "source": [
    "Hence, we can define the bulk force ($b_0=\\rho \\, g$) and the total potential energy functional. The bulk force is initially set to 0.\n"
   ]
  },
  {
   "cell_type": "code",
   "execution_count": 9,
   "id": "15d81224",
   "metadata": {},
   "outputs": [],
   "source": [
    "rhog = dolfinx.fem.Constant(my_domain, dolfinx.default_scalar_type((0, 0)))\n",
    "potential_energy = psi*dx - ufl.inner(u, rhog)*dx"
   ]
  },
  {
   "cell_type": "markdown",
   "id": "60eb8809",
   "metadata": {},
   "source": [
    "As a Dirichlet Boundary condition, we block the left-end."
   ]
  },
  {
   "cell_type": "code",
   "execution_count": 11,
   "id": "b4e860e6",
   "metadata": {},
   "outputs": [],
   "source": [
    "# what boundary conditions are we using?\n",
    "left_dofs = dolfinx.fem.locate_dofs_topological(V, facet_tag.dim, facet_tag.find(1))\n",
    "u_bc = np.array((0,0), dtype=dolfinx.default_scalar_type)\n",
    "bc = dolfinx.fem.dirichletbc(u_bc, left_dofs,V)"
   ]
  },
  {
   "cell_type": "markdown",
   "id": "2999d680",
   "metadata": {},
   "source": [
    "The variational problem to solve is the minimization of the potential energy with the given boundary conditions. To this end we need to define the  *residual*, given by the first derivative of the energy.\n",
    "\n",
    "In FEniCS, thanks to the symbolic differentiation tools provided by `UFL` this can be done automatically, without effort from the user.\n",
    "\n",
    "To this end we use the `derivative` function from `UFL` which allows us to calculate the directional derivative of a form. We refer to the `UFL` manual for the syntax: https://fenics.readthedocs.io/projects/ufl/en/latest/manual/form_language.html#ad\n"
   ]
  },
  {
   "cell_type": "code",
   "execution_count": 12,
   "id": "c0dcb3a2",
   "metadata": {},
   "outputs": [],
   "source": [
    "v = ufl.TestFunction(V)\n",
    "residual = ufl.derivative(potential_energy, u, v)"
   ]
  },
  {
   "cell_type": "markdown",
   "id": "fa84f868",
   "metadata": {},
   "source": [
    "All the informations about the variational problem to be solved  (residual, bcs and indipendent variable) can be  collected in the class `NonlinearProblem`."
   ]
  },
  {
   "cell_type": "code",
   "execution_count": 13,
   "id": "6256fde7",
   "metadata": {},
   "outputs": [],
   "source": [
    "problem = dolfinx.fem.petsc.NonlinearProblem(residual, u, bcs=[bc])"
   ]
  },
  {
   "cell_type": "markdown",
   "id": "485b5518",
   "metadata": {},
   "source": [
    "The problem is nonlinear and requires the use of an iterative solver, here we use the Newton method. \n",
    "\n",
    "We create a solver in the nonlinear solver class. This solver can implement the basic newton method or more complex nonlinear solvers (that we will not discuss in class). A long list of parameters can be specified. All the nonlinear solver available in PETSc can be used. We suggest the reading of the PETSC user manual (Chapter 5, SNES Solver). "
   ]
  },
  {
   "cell_type": "code",
   "execution_count": 14,
   "id": "5eda42e3",
   "metadata": {},
   "outputs": [],
   "source": [
    "solver = nls.petsc.NewtonSolver(my_domain.comm, problem)\n",
    "# Set Newton solver options\n",
    "solver.atol = 1e-8\n",
    "solver.rtol = 1e-8\n",
    "solver.convergence_criterion = \"incremental\""
   ]
  },
  {
   "cell_type": "markdown",
   "id": "6e0cbdd9",
   "metadata": {},
   "source": [
    "Here is a list of options, how can we change them?"
   ]
  },
  {
   "cell_type": "code",
   "execution_count": null,
   "id": "4fdfbcc6-2a8b-4708-af4a-2e4cad6ff5b5",
   "metadata": {},
   "outputs": [],
   "source": [
    "solver.error_on_nonconvergence"
   ]
  },
  {
   "cell_type": "code",
   "execution_count": null,
   "id": "aa13932b-05ad-452f-b330-dc513981b34c",
   "metadata": {},
   "outputs": [],
   "source": [
    "solver.krylov_solver.history"
   ]
  },
  {
   "cell_type": "code",
   "execution_count": null,
   "id": "6f567725-4afd-40f4-840f-3a355d97e2ac",
   "metadata": {},
   "outputs": [],
   "source": [
    "solver.krylov_solver.divtol"
   ]
  },
  {
   "cell_type": "code",
   "execution_count": null,
   "id": "3a529779-2fdb-4dc8-a60e-356a1933cb01",
   "metadata": {},
   "outputs": [],
   "source": [
    "solver.max_it"
   ]
  },
  {
   "cell_type": "code",
   "execution_count": null,
   "id": "e3fade74-3405-4a7d-9464-7fc698392a06",
   "metadata": {},
   "outputs": [],
   "source": [
    "solver.relaxation_parameter"
   ]
  },
  {
   "cell_type": "code",
   "execution_count": null,
   "id": "2f808097-0408-4a68-bec3-65e02f32deb8",
   "metadata": {},
   "outputs": [],
   "source": [
    "solver.report"
   ]
  },
  {
   "cell_type": "markdown",
   "id": "c4f93b29",
   "metadata": {},
   "source": [
    "`How would you change the above parameters? `"
   ]
  },
  {
   "cell_type": "markdown",
   "id": "caffe7af",
   "metadata": {},
   "source": [
    "We use the ```plot_function_u``` from the tutorial https://jorgensd.github.io/dolfinx-tutorial/chapter2/hyperelasticity.html *(optional)*."
   ]
  },
  {
   "cell_type": "code",
   "execution_count": null,
   "id": "3d180440",
   "metadata": {},
   "outputs": [],
   "source": [
    "pyvista.set_jupyter_backend(\"static\")\n",
    "grid = pyvista.UnstructuredGrid(*dolfinx.plot.vtk_mesh(my_domain, my_domain.topology.dim))\n",
    "\n",
    "def plot_function_u(t, uh):\n",
    "    \"\"\"\n",
    "    Create a figure of the concentration uh warped visualized in 3D at timet step t.\n",
    "    \"\"\"\n",
    "    p = pyvista.Plotter()\n",
    "    # Create grid defined by the function space for visualization of the function\n",
    "    topology, cells, geometry = dolfinx.plot.vtk_mesh(uh.function_space)\n",
    "    function_grid = pyvista.UnstructuredGrid(topology, cells, geometry)\n",
    "    var_name = f\"u({t})\"\n",
    "    values = np.zeros((geometry.shape[0], 3))\n",
    "    values[:, :len(uh)] = uh.x.array.reshape(geometry.shape[0], len(uh))\n",
    "    function_grid[var_name] = values\n",
    "    function_grid.set_active_vectors(var_name)\n",
    "    # Warp mesh by deformation\n",
    "    warped = function_grid.warp_by_vector(var_name, factor=1)\n",
    "    \n",
    "    # Add mesh to plotter and visualize\n",
    "    actor = p.add_mesh(warped)\n",
    "    p.show_axes()\n",
    "    p.view_xy()\n",
    "    if not pyvista.OFF_SCREEN:\n",
    "        p.show()\n",
    "    else:\n",
    "        pyvista.start_xvfb()\n",
    "        figure_as_array = p.screenshot(f\"diffusion_{t:.2f}.png\")\n",
    "        # Clear plotter for next plot\n",
    "        p.remove_actor(actor)\n",
    "\n",
    "plot_function_u(0, u)"
   ]
  },
  {
   "cell_type": "markdown",
   "id": "b3a314c5",
   "metadata": {},
   "source": [
    "## Solve the static nonlinear problem\n",
    "We can now solve the problem for vanishing loads. By default the solution is initialized at $u=(0,0)$.\n",
    "Without surprise the solution is null because the loading is null. The solver gives the output: the number of newton iterations required and the reason (1: converged, 0: non-converged).\n",
    "\n",
    "We can then increase sligtly the volume force. "
   ]
  },
  {
   "cell_type": "code",
   "execution_count": null,
   "id": "5a96eb98",
   "metadata": {},
   "outputs": [],
   "source": [
    "from dolfinx import log\n",
    "log.set_log_level(log.LogLevel.INFO)\n",
    "u.x.array[:] = 0.0 # Question: what does this command do?\n",
    "rhog.value[1] = -0.005\n",
    "niterations, reason = solver.solve(u)\n",
    "log.set_log_level(log.LogLevel.ERROR)\n",
    "print('number of iterations in Newton solver:',niterations)\n",
    "plot_function_u(1, u)"
   ]
  },
  {
   "cell_type": "code",
   "execution_count": 23,
   "id": "cc463893",
   "metadata": {},
   "outputs": [],
   "source": [
    "# For the paraview export\n",
    "V_CG1 = dolfinx.fem.functionspace(my_domain, (\"CG\", 1, (my_domain.geometry.dim, )))\n",
    "u_CG1 = dolfinx.fem.Function(V_CG1)\n",
    "#u_expr = dolfinx.fem.Expression(u, V_CG1.element.interpolation_points())\n",
    "#u_CG1.interpolate(u_expr)\n",
    "u_CG1.interpolate(u) # ca marche en faisant directement comme ca\n",
    "\n",
    "with dolfinx.io.XDMFFile(my_domain.comm, \"output/solution_u.xdmf\", \"w\") as file:\n",
    "    file.write_mesh(my_domain)\n",
    "    file.write_function(u_CG1)"
   ]
  },
  {
   "cell_type": "code",
   "execution_count": null,
   "id": "0c94b295-d306-4588-afb4-c35c05816fd2",
   "metadata": {},
   "outputs": [],
   "source": [
    "residual_vector = dolfinx.fem.petsc.assemble_vector(dolfinx.fem.form(residual))\n",
    "print(\"What is this number? : \",residual_vector.norm(),\". Should it be zero?\")"
   ]
  },
  {
   "cell_type": "code",
   "execution_count": null,
   "id": "c4721e24",
   "metadata": {},
   "outputs": [],
   "source": [
    "# with the given parameters, this norm should be 0.091\n",
    "L2norm_unorm = np.sqrt(utils.assemble_scalar(dolfinx.fem.form(ufl.dot(u,u) * ufl.dx)))\n",
    "print(\"Norme L2 of the solution : \",L2norm_unorm)"
   ]
  },
  {
   "cell_type": "markdown",
   "id": "c821d643",
   "metadata": {},
   "source": [
    "We get a reasonable solution, showing the deflection of the beam under its own weight. \n",
    "As a quantitative output we can print the vertical displacement at the rigth end (using ```extract``` or ```assemble```)."
   ]
  },
  {
   "cell_type": "code",
   "execution_count": null,
   "id": "d9d1efe4",
   "metadata": {},
   "outputs": [],
   "source": [
    "# with the given parameters, u(L,0) = -0.18 , -0.53\n",
    "utils.evaluate_at_points(np.array([[1.0],[0.0],[0.0]]), u)"
   ]
  },
  {
   "cell_type": "code",
   "execution_count": null,
   "id": "91a8f9ab",
   "metadata": {},
   "outputs": [],
   "source": [
    "# Is this equal to uy(L,0)?  Why ?\n",
    "dolfinx.fem.assemble_scalar(dolfinx.fem.form(u[1]*ds(2)))/d"
   ]
  },
  {
   "cell_type": "markdown",
   "id": "2f5f92cb",
   "metadata": {},
   "source": [
    "We can also plot the displacement along the midline $(y=0)$ using ```matplotlib``` (see TP1)."
   ]
  },
  {
   "cell_type": "code",
   "execution_count": null,
   "id": "ec92a960",
   "metadata": {},
   "outputs": [],
   "source": [
    "tol = 0.001 # Avoid hitting the outside of the domain\n",
    "nbr_pts = 30 # number of plot points\n",
    "liste_x = np.linspace(0 + tol, L - tol, nbr_pts) # I will plot for x in (0;1)\n",
    "\n",
    "liste_uy=[]\n",
    "for i, x_i in enumerate(liste_x):\n",
    "    usol=utils.evaluate_at_points(np.array([[x_i],[0.0],[0.0]]), u)\n",
    "    liste_uy.append(usol[0,1])\n",
    "\n",
    "fig = plt.figure()\n",
    "plt.plot(liste_x, liste_uy, \"-o\", linewidth=2, label=\"u_y(x,0)\")\n",
    "plt.grid(True)\n",
    "plt.xlabel(\"x\")\n",
    "plt.xlim((0.,1.))\n",
    "plt.ylim((-0.2,0.2))\n",
    "plt.axis('equal')\n",
    "plt.ylabel(\"u_y(x,0)\")\n",
    "plt.title(\"Vertical displacement of the beam neutral axis\")\n",
    "plt.legend()\n",
    "plt.show()"
   ]
  },
  {
   "cell_type": "markdown",
   "id": "1feef89d",
   "metadata": {},
   "source": [
    "We can calculate the total reaction force at the left end, we can have an automatic symbolic derivation of the strain energy density to define the First Piola-Kirchhoff stress \n",
    " \n",
    " $${P}=\\dfrac{\\partial\\Psi}{\\partial F}$$\n",
    " \n",
    " To this end we use the `diff` operator in `UFL`(https://fenics.readthedocs.io/projects/ufl/en/latest/manual/form_language.html#variable-derivatives).\n",
    " \n",
    " Its use requires to define the symbol of the derivation variable as a `UFL` `variable`. \n",
    " That is the reason why `F` in the previous cell is defined as a `ufl.variable`."
   ]
  },
  {
   "cell_type": "code",
   "execution_count": 32,
   "id": "0b745d26",
   "metadata": {},
   "outputs": [],
   "source": [
    "P = ufl.diff(psi, F)"
   ]
  },
  {
   "cell_type": "markdown",
   "id": "4b17f61a",
   "metadata": {},
   "source": [
    "We can convert ```P``` to an ```Expression``` and interpolate it on our mesh. "
   ]
  },
  {
   "cell_type": "code",
   "execution_count": 33,
   "id": "5d4efc2f",
   "metadata": {},
   "outputs": [],
   "source": [
    "# space function for the stress, explain the degree\n",
    "W = dolfinx.fem.functionspace(my_domain, (\"DG\", 1, (2,2, )))\n",
    "P_expr = dolfinx.fem.Expression(P, W.element.interpolation_points())\n",
    "P_h = dolfinx.fem.Function(W)\n",
    "P_h.interpolate(P_expr)\n"
   ]
  },
  {
   "cell_type": "code",
   "execution_count": 34,
   "id": "dd1dd2bd",
   "metadata": {},
   "outputs": [],
   "source": [
    "# For the paraview export\n",
    "W0 = dolfinx.fem.functionspace(my_domain, (\"DG\", 0, (2,2, )))\n",
    "P0_expr = dolfinx.fem.Expression(P, W0.element.interpolation_points())\n",
    "P0_h = dolfinx.fem.Function(W0)\n",
    "P0_h.interpolate(P0_expr)"
   ]
  },
  {
   "cell_type": "code",
   "execution_count": 35,
   "id": "d26ac8db",
   "metadata": {},
   "outputs": [],
   "source": [
    "with dolfinx.io.XDMFFile(my_domain.comm, \"output/solution_P.xdmf\", \"w\") as file:\n",
    "    file.write_mesh(my_domain)\n",
    "    file.write_function(P0_h)"
   ]
  },
  {
   "cell_type": "markdown",
   "id": "1e6bf17f",
   "metadata": {},
   "source": [
    "We can then print ```P``` at the left end of the cantilever, note that this tensor is not symmetric."
   ]
  },
  {
   "cell_type": "code",
   "execution_count": null,
   "id": "2372333d",
   "metadata": {},
   "outputs": [],
   "source": [
    "utils.evaluate_at_points(np.array([[L],[0.5*d],[0.0]]), P_h)"
   ]
  },
  {
   "cell_type": "markdown",
   "id": "5c03d98c",
   "metadata": {},
   "source": [
    "Next, we adapt the ```plot_function``` from the tutorial to visualize the components of ```P``` *(optional)*."
   ]
  },
  {
   "cell_type": "code",
   "execution_count": null,
   "id": "2eecfc99",
   "metadata": {
    "scrolled": true
   },
   "outputs": [],
   "source": [
    "def plot_function_P(t, Ph, i): # t est le pas de temps, et i est l'index de la composante\n",
    "    p = pyvista.Plotter()\n",
    "    # Create grid defined by the function space for visualization of the function\n",
    "    topology, cells, geometry = dolfinx.plot.vtk_mesh(Ph.function_space)\n",
    "    function_grid = pyvista.UnstructuredGrid(topology, cells, geometry)\n",
    "    var_name_P = f\"P_{i}({t})\"\n",
    "    values_P = np.zeros((geometry.shape[0], 3))\n",
    "    values_P[:, :1] = Ph.x.array.reshape(geometry.shape[0], 4)[:,[i]]\n",
    "    function_grid[var_name_P] = values_P\n",
    "    function_grid.set_active_vectors(var_name_P)\n",
    "    actor = p.add_mesh(function_grid)\n",
    "    #p.show_axes()\n",
    "    p.view_xy()\n",
    "    if not pyvista.OFF_SCREEN:\n",
    "        p.show()\n",
    "    else:\n",
    "        pyvista.start_xvfb()\n",
    "        p.remove_actor(actor)\n",
    "\n",
    "time_step=0 #we only computed one equilibrium\n",
    "comp=0 # which component of P_ij is this ?\n",
    "# why do we choose to plot this one precisely?\n",
    "plot_function_P(time_step, P_h, comp) # composantes 0,1,2,3 pour Pxx Pxy Pyx Pyy"
   ]
  },
  {
   "cell_type": "code",
   "execution_count": null,
   "id": "53c1525a-66de-4475-9717-2532efd7dd34",
   "metadata": {},
   "outputs": [],
   "source": [
    "# verification force nulle en bout de poutre\n",
    "fL1 = dolfinx.fem.assemble_scalar(dolfinx.fem.form(P_h[0,0]*ds(2)))\n",
    "fL2 = dolfinx.fem.assemble_scalar(dolfinx.fem.form(P_h[1,0]*ds(2)))\n",
    "print(fL1,fL2)"
   ]
  },
  {
   "cell_type": "markdown",
   "id": "ddb77d48",
   "metadata": {},
   "source": [
    "We can calculate the total reaction force at the left end to double-check against what we expect from global equilibrium."
   ]
  },
  {
   "cell_type": "code",
   "execution_count": null,
   "id": "9ad85752",
   "metadata": {},
   "outputs": [],
   "source": [
    "fL1 = dolfinx.fem.assemble_scalar(dolfinx.fem.form(P_h[0,0]*ds(1))) # what is this force ?\n",
    "fL2 = dolfinx.fem.assemble_scalar(dolfinx.fem.form(P_h[1,0]*ds(1))) # what is this force ?\n",
    "print(fL1,fL2)"
   ]
  },
  {
   "cell_type": "code",
   "execution_count": null,
   "id": "e49e952d",
   "metadata": {},
   "outputs": [],
   "source": [
    "fL1_theo = dolfinx.fem.assemble_scalar(dolfinx.fem.form(rhog[0]*dx)) # what is this force ?\n",
    "fL2_theo = dolfinx.fem.assemble_scalar(dolfinx.fem.form(rhog[1]*dx)) # what is this force ?\n",
    "print(fL1_theo,fL2_theo)\n",
    "print(\"Errors: \",(fL1-fL1_theo),(fL2-fL2_theo)/fL2_theo)"
   ]
  },
  {
   "cell_type": "markdown",
   "id": "b935c321",
   "metadata": {},
   "source": [
    "` Are these forces equal? Why?`"
   ]
  },
  {
   "cell_type": "markdown",
   "id": "d806f49c",
   "metadata": {},
   "source": [
    "The error is non-negligible (especially if we are in the nonlinear regime). \n",
    "- Convergence toward the expected value can be obtained after mesh refinement or increasing the interpolation order of the basis functions. \n",
    "- You can check also that the error will be large with linear elements. The presence of body loading renders linear elements non optimal. Is there an explanation for this? "
   ]
  },
  {
   "cell_type": "markdown",
   "id": "cd73d61f",
   "metadata": {
    "tags": []
   },
   "source": [
    "## Solve of a quasi-static evolution problem with continuation\n",
    "\n",
    "We now increment the loading slowly. \n",
    "We discretize the total applied load into $n_t$ load-steps of equal length. \n",
    "At each load step $t_i$, the solution of the problem can be obtained by initializing the newton solver  with the solution of the previous load-step. This will greatly facilitate the convergence of the Newton algorithm. \n",
    "\n",
    "It is sufficient to perform a `for` loop as follows. Note the initialization of the Newton algorithm at each load-step is done with the latest solution available which is stored in memory.\n",
    "\n",
    "\n",
    "*Remark:* \n",
    "- The initialization of the solution before starting the solver is fundamental in nonlinear problems, because the solution can be not unique. \n",
    "\n",
    "- Smaller load-steps generally helps convergence. Nonlinear solves can not converge for large load-steps because the initialization of the newton solver is not close enough to a possible solution.\n",
    "\n",
    "- Newton solvers converge very quickly (quadratic convergence rate) when they are close to a possible solution of the system to solve. But they can stagnate or diverge is they are not correctly initialized. \n",
    "\n",
    "- You can monitor the interation of the Newton solver in the terminal window where you launched `jupyter`.\n",
    "\n",
    "You can play to test these points.\n"
   ]
  },
  {
   "cell_type": "code",
   "execution_count": null,
   "id": "ad5face8",
   "metadata": {},
   "outputs": [],
   "source": [
    "from dolfinx import log\n",
    "#log.set_log_level(log.LogLevel.INFO)\n",
    "log.set_log_level(log.LogLevel.ERROR)\n",
    "loads = np.linspace(0, 0.01, 10)\n",
    "displ = np.zeros(10)\n",
    "##OLD u.x.set(0)\n",
    "u.x.array[:] = 0.0 # Question: what does this command do?\n",
    "for (i, t) in enumerate(loads):\n",
    "    rhog.value[1] = -t\n",
    "    num_its, converged = solver.solve(u)\n",
    "    # you could export to xdmf if you wish...\n",
    "    displ[i] = dolfinx.fem.assemble_scalar(dolfinx.fem.form(u[1]*ds(2)))/d # what is computed here?\n",
    "    assert(converged)\n",
    "    u.x.scatter_forward()\n",
    "    print(f\"Time step {i}, Number of iterations Newwton {num_its}, Load {rhog.value}, displ {displ[i]}\")\n",
    "    plot_function_u(i, u)"
   ]
  },
  {
   "cell_type": "code",
   "execution_count": null,
   "id": "168fb2a5",
   "metadata": {},
   "outputs": [],
   "source": [
    "plt.figure(2)\n",
    "plt.grid(True)\n",
    "plt.title(\"Vertical displacement at the end of the beam\")\n",
    "plt.plot(loads,displ, \"-o\", linewidth=2, label=\"u_y(x,0)\")\n",
    "plt.legend()\n",
    "plt.xlabel(\"load\")\n",
    "plt.ylabel(\"end-displacement\")\n",
    "plt.show()"
   ]
  },
  {
   "cell_type": "markdown",
   "id": "9b2c762b",
   "metadata": {},
   "source": [
    "# Wrap up\n",
    "Let us refactor the nonlinear solver in a function that resume the code required to solve the problem. We can then test it."
   ]
  },
  {
   "cell_type": "code",
   "execution_count": null,
   "id": "d8c4aa77",
   "metadata": {},
   "outputs": [],
   "source": [
    "def solve_hyperelasticity(load_max=0.01, nsteps=40, load_min=0, nu=0.3, e=1/6., d=0.1):\n",
    "    # e is to change the mesh size\n",
    "    # d is width of the rectangle\n",
    "    L=1.0 # unit length\n",
    "    h = d*e \n",
    "    my_domain = dolfinx.mesh.create_rectangle(comm=MPI.COMM_WORLD,\n",
    "                            points=((0.0, -0.5*d), (L, 0.5*d)), n=(int(L/h), int(d/h)),\n",
    "                            cell_type=dolfinx.mesh.CellType.triangle)\n",
    "    \n",
    "    #\n",
    "    # please complete these lines, using what we have done above \n",
    "    #....\n",
    "    #\n",
    "    #\n",
    "    \n",
    "    for (i, t) in enumerate(loads):\n",
    "        rhog.value[1] = -t\n",
    "        solver.solve(u)\n",
    "        displ[i] = dolfinx.fem.assemble_scalar(dolfinx.fem.form(u[1]*ds(2)))/d\n",
    "        print(\"i={:3d}/{:3d}, t={:+3.5f}, u={:+3.3f}\".format(i,len(loads),t, displ[i]))\n",
    "    return (loads,displ)"
   ]
  },
  {
   "cell_type": "code",
   "execution_count": null,
   "id": "6ebef477",
   "metadata": {},
   "outputs": [],
   "source": [
    "nu=0.3\n",
    "loads, displ = solve_hyperelasticity(load_max=0.015,nsteps=40,load_min=0,nu=nu,e=1/10.,d=0.1)\n",
    "print(displ)"
   ]
  },
  {
   "cell_type": "markdown",
   "id": "300f69b0",
   "metadata": {},
   "source": [
    "## Plot the end-displacement as a function of $\\Gamma$"
   ]
  },
  {
   "cell_type": "markdown",
   "id": "809fb083",
   "metadata": {},
   "source": [
    "### The definition of is $\\Gamma = M g / (D w / L^2)$ with $D=Y/(1-\\nu^2)$ \n",
    "What is $M$?"
   ]
  },
  {
   "cell_type": "code",
   "execution_count": null,
   "id": "54ff3426-5065-4867-a9b5-796a33a5e4ca",
   "metadata": {},
   "outputs": [],
   "source": [
    "plt.xlabel(\"Gamma\")\n",
    "# the rho g values are listed in the list 'loads'\n",
    "Gamma=XXX*loads\n",
    "k_value = 0.987654321\n",
    "plt.ylabel(\"end-displacement : u_y(L,0)\")\n",
    "plt.plot(Gamma,k_value*Gamma, \".r\") # what are we plotting here?\n",
    "plt.plot(Gamma,abs(displ), \".-\") # what are we plotting here?"
   ]
  },
  {
   "cell_type": "code",
   "execution_count": null,
   "id": "9409744f",
   "metadata": {},
   "outputs": [],
   "source": [
    "# Here you should plot  u_y(L,0) divided by Gamma to find the coefficient k\n",
    "# Are there other methods to find k?\n",
    "plt.xlabel(\"Gamma\") \n",
    "Gamma=XXX*loads\n",
    "plt.ylabel(\"end-displacement : u_y(L,0) / Gamma\")\n",
    "plt.plot(Gamma,XXX, \".-\") # pour que la pente soit 1/8 il faut mettre 1/(1-nu^2) da"
   ]
  },
  {
   "cell_type": "markdown",
   "id": "34c4660f",
   "metadata": {},
   "source": [
    "# Exercice\n",
    "1- Try to increase the maximum loading to 0.02. Is the Newton solver converging?\n",
    "\n",
    "2- Try to reduce the number of steps to reach the maximum loading. Is the Newton solver converging?\n",
    "\n",
    "3- We introduce the parameter $\\Gamma = \\frac{Mg}{Dw/L^2}$ with $Dw=EI/(1-\\nu^2)$\n",
    "\n",
    "4- For low weight, plot y(L)/L versus $\\Gamma$. What is the scaling of this curve? What is the value of the coefficient k?\n",
    "\n",
    "5- For significant weight, draw y(L)/x(L). What is the scaling of this curve? What is the prefactor?\n",
    "\n",
    "6- We consider a steel beam with L=3 m, h=1 cm sagging under its own weight. What is the value of y(L) in cm ?\n",
    "\n",
    "7(opt)- Try to replace the elastic energy density with the weakly incompressible Neo-Hookean model where:\n",
    "$$\n",
    "\\psi(F) = \\dfrac{\\mu}{2}(\\mathrm{tr}(F^T F) - 2) - \\mu\\ln(\\det F) + (\\lambda/2)*(\\ln(\\det F))^2\n",
    "$$\n",
    "and perform again the numerical simulation for a loading going form 0 to 0.02. Is the Newton solver converging? \n"
   ]
  },
  {
   "cell_type": "code",
   "execution_count": null,
   "id": "e242617a",
   "metadata": {},
   "outputs": [],
   "source": []
  },
  {
   "cell_type": "code",
   "execution_count": null,
   "id": "038b3143",
   "metadata": {},
   "outputs": [],
   "source": []
  },
  {
   "cell_type": "code",
   "execution_count": null,
   "id": "e7b07139",
   "metadata": {},
   "outputs": [],
   "source": []
  },
  {
   "cell_type": "code",
   "execution_count": null,
   "id": "09c18f48",
   "metadata": {},
   "outputs": [],
   "source": []
  },
  {
   "cell_type": "code",
   "execution_count": null,
   "id": "15c52f20",
   "metadata": {},
   "outputs": [],
   "source": []
  },
  {
   "cell_type": "code",
   "execution_count": null,
   "id": "81f1e2af",
   "metadata": {},
   "outputs": [],
   "source": []
  },
  {
   "cell_type": "code",
   "execution_count": null,
   "id": "cf2b504f",
   "metadata": {},
   "outputs": [],
   "source": []
  }
 ],
 "metadata": {
  "kernelspec": {
   "display_name": "fenicsx-cism-2024",
   "language": "python",
   "name": "python3"
  },
  "language_info": {
   "codemirror_mode": {
    "name": "ipython",
    "version": 3
   },
   "file_extension": ".py",
   "mimetype": "text/x-python",
   "name": "python",
   "nbconvert_exporter": "python",
   "pygments_lexer": "ipython3",
   "version": "3.12.6"
  }
 },
 "nbformat": 4,
 "nbformat_minor": 5
}
